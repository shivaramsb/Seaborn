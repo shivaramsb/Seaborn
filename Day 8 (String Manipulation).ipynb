{
  "nbformat": 4,
  "nbformat_minor": 0,
  "metadata": {
    "colab": {
      "provenance": []
    },
    "kernelspec": {
      "name": "python3",
      "display_name": "Python 3"
    },
    "language_info": {
      "name": "python"
    }
  },
  "cells": [
    {
      "cell_type": "code",
      "execution_count": 2,
      "metadata": {
        "colab": {
          "base_uri": "https://localhost:8080/"
        },
        "id": "mQPtOpp7V23g",
        "outputId": "a3884b1e-5641-4da4-e52f-d76f7ab3dc27"
      },
      "outputs": [
        {
          "output_type": "stream",
          "name": "stdout",
          "text": [
            "Enter a string: Hello\n",
            "The string is not a palindrome.\n"
          ]
        }
      ],
      "source": [
        "# Q1: Create a program that checks if a given string is a palindrome.\n",
        "\n",
        "input_string = input(\"Enter a string: \")\n",
        "if input_string == input_string[::-1]:\n",
        "    print(\"The string is a palindrome.\")\n",
        "else:\n",
        "    print(\"The string is not a palindrome.\")"
      ]
    },
    {
      "cell_type": "code",
      "source": [
        "# Q2: Write a program to count the number of vowels in a given string.\n",
        "\n",
        "input_string = input(\"Enter a string: \")\n",
        "vowels = \"aeiouAEIOU\"\n",
        "count = 0\n",
        "for char in input_string:\n",
        "    if char in vowels:\n",
        "        count += 1\n",
        "print(\"Number of vowels in the string:\", count)"
      ],
      "metadata": {
        "colab": {
          "base_uri": "https://localhost:8080/"
        },
        "id": "TaQ6c7TDV4ha",
        "outputId": "bc752928-8195-424e-afd7-9ab47dec31b3"
      },
      "execution_count": 3,
      "outputs": [
        {
          "output_type": "stream",
          "name": "stdout",
          "text": [
            "Enter a string: aeiou\n",
            "Number of vowels in the string: 5\n"
          ]
        }
      ]
    },
    {
      "cell_type": "code",
      "source": [
        "# Q3: Given a list of words, concatenate them into a single string separated by spaces.\n",
        "\n",
        "word_list = [\"Hello\", \"world\", \"Python\", \"programming\"]\n",
        "concatenated_string = ' '.join(word_list)\n",
        "print(\"Concatenated string:\", concatenated_string)"
      ],
      "metadata": {
        "colab": {
          "base_uri": "https://localhost:8080/"
        },
        "id": "PNn8FeizV4oJ",
        "outputId": "a449e86a-1d7f-4100-e54d-d6ec3966d2f3"
      },
      "execution_count": 4,
      "outputs": [
        {
          "output_type": "stream",
          "name": "stdout",
          "text": [
            "Concatenated string: Hello world Python programming\n"
          ]
        }
      ]
    },
    {
      "cell_type": "code",
      "source": [
        "# Q4: Reverse a given string.\n",
        "\n",
        "input_string = input(\"Enter a string: \")\n",
        "reversed_string = input_string[::-1]\n",
        "print(\"Reversed string:\", reversed_string)"
      ],
      "metadata": {
        "colab": {
          "base_uri": "https://localhost:8080/"
        },
        "id": "vBgHaYIIV4rh",
        "outputId": "468423d6-48ac-4aee-b535-7a54610aca16"
      },
      "execution_count": 5,
      "outputs": [
        {
          "output_type": "stream",
          "name": "stdout",
          "text": [
            "Enter a string: Hello\n",
            "Reversed string: olleH\n"
          ]
        }
      ]
    },
    {
      "cell_type": "code",
      "source": [
        "# Q5: Write a program that takes a sentence as input and counts the number of words in it.\n",
        "\n",
        "input_sentence = input(\"Enter a sentence: \")\n",
        "word_count = len(input_sentence.split())\n",
        "print(\"Number of words in the sentence:\", word_count)"
      ],
      "metadata": {
        "colab": {
          "base_uri": "https://localhost:8080/"
        },
        "id": "3dUpE78mV4u4",
        "outputId": "214d6123-77cd-439c-8b97-b8975a466b2c"
      },
      "execution_count": 6,
      "outputs": [
        {
          "output_type": "stream",
          "name": "stdout",
          "text": [
            "Enter a sentence: Hello\n",
            "Number of words in the sentence: 1\n"
          ]
        }
      ]
    },
    {
      "cell_type": "code",
      "source": [
        "# Q6: Check if a given string is a pangram (contains all letters of the alphabet).\n",
        "\n",
        "import string\n",
        "input_sentence = input(\"Enter a sentence: \")\n",
        "alphabet = set(string.ascii_lowercase)\n",
        "if set(input_sentence.lower()) >= alphabet:\n",
        "    print(\"The sentence is a pangram.\")\n",
        "else:\n",
        "    print(\"The sentence is not a pangram.\")"
      ],
      "metadata": {
        "colab": {
          "base_uri": "https://localhost:8080/"
        },
        "id": "6QtkA29XV4yM",
        "outputId": "435df3ce-a1aa-4eca-d0dc-5607c751560b"
      },
      "execution_count": 8,
      "outputs": [
        {
          "output_type": "stream",
          "name": "stdout",
          "text": [
            "Enter a sentence: HELLO WORLD\n",
            "The sentence is not a pangram.\n"
          ]
        }
      ]
    },
    {
      "cell_type": "code",
      "source": [
        "# Q7: Given a string, remove all vowels from it and return the modified string.\n",
        "\n",
        "input_string = input(\"Enter a string: \")\n",
        "vowels = \"aeiouAEIOU\"\n",
        "string_without_vowels = ''.join(char for char in input_string if char not in vowels)\n",
        "print(\"String after removing vowels:\", string_without_vowels)"
      ],
      "metadata": {
        "colab": {
          "base_uri": "https://localhost:8080/"
        },
        "id": "aDzmTTjoV41K",
        "outputId": "2b1076c8-4bba-43ff-ba51-80c56d704638"
      },
      "execution_count": 9,
      "outputs": [
        {
          "output_type": "stream",
          "name": "stdout",
          "text": [
            "Enter a string: Learning\n",
            "String after removing vowels: Lrnng\n"
          ]
        }
      ]
    },
    {
      "cell_type": "code",
      "source": [
        "# Q8: Find the length of the longest word in a sentence.\n",
        "\n",
        "input_sentence = input(\"Enter a sentence: \")\n",
        "words = input_sentence.split()\n",
        "max_length = max(len(word) for word in words)\n",
        "print(\"Length of the longest word:\", max_length)"
      ],
      "metadata": {
        "colab": {
          "base_uri": "https://localhost:8080/"
        },
        "id": "gfBJwjEaV44t",
        "outputId": "97865667-9fe9-42ea-d2ac-969e1dfdec24"
      },
      "execution_count": 10,
      "outputs": [
        {
          "output_type": "stream",
          "name": "stdout",
          "text": [
            "Enter a sentence: Hello world Python programming\n",
            "Length of the longest word: 11\n"
          ]
        }
      ]
    },
    {
      "cell_type": "code",
      "source": [
        "# Q9: Reverse a sentence.\n",
        "\n",
        "input_sentence = input(\"Enter a sentence: \")\n",
        "reversed_sentence = ' '.join(input_sentence.split()[::-1])\n",
        "print(\"Reversed sentence:\", reversed_sentence)"
      ],
      "metadata": {
        "colab": {
          "base_uri": "https://localhost:8080/"
        },
        "id": "3MVAN-mFXmSh",
        "outputId": "57a026b7-df9e-41cd-c48e-dcf6a874b0c4"
      },
      "execution_count": 11,
      "outputs": [
        {
          "output_type": "stream",
          "name": "stdout",
          "text": [
            "Enter a sentence: Hello world Python programming\n",
            "Reversed sentence: programming Python world Hello\n"
          ]
        }
      ]
    },
    {
      "cell_type": "code",
      "source": [
        "# Q10: Count the number of names that start with a vowel in a list of names.\n",
        "\n",
        "name_list = [\"Alice\", \"Bob\", \"Eve\", \"Oscar\", \"Ursula\"]\n",
        "count = 0\n",
        "vowels = \"aeiouAEIOU\"\n",
        "for name in name_list:\n",
        "    if name[0] in vowels:\n",
        "        count += 1\n",
        "print(\"Number of names starting with a vowel:\", count)"
      ],
      "metadata": {
        "colab": {
          "base_uri": "https://localhost:8080/"
        },
        "id": "jzl9j67tXmYD",
        "outputId": "b81d6670-04c1-47c1-bf02-6ceb4e1e6959"
      },
      "execution_count": 12,
      "outputs": [
        {
          "output_type": "stream",
          "name": "stdout",
          "text": [
            "Number of names starting with a vowel: 4\n"
          ]
        }
      ]
    }
  ]
}