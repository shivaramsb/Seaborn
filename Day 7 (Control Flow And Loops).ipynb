{
  "nbformat": 4,
  "nbformat_minor": 0,
  "metadata": {
    "colab": {
      "provenance": []
    },
    "kernelspec": {
      "name": "python3",
      "display_name": "Python 3"
    },
    "language_info": {
      "name": "python"
    }
  },
  "cells": [
    {
      "cell_type": "code",
      "execution_count": 1,
      "metadata": {
        "colab": {
          "base_uri": "https://localhost:8080/"
        },
        "id": "8xioX3_PQD4x",
        "outputId": "08e60bf5-279e-4a54-d042-f4fc6b8e404d"
      },
      "outputs": [
        {
          "output_type": "stream",
          "name": "stdout",
          "text": [
            "Enter a number: 10.20\n",
            "Positive\n"
          ]
        }
      ],
      "source": [
        "# Q1: Write a program that checks if a given number is positive, negative, or zero.\n",
        "\n",
        "num = float(input(\"Enter a number: \"))\n",
        "if num > 0:\n",
        "    print(\"Positive\")\n",
        "elif num < 0:\n",
        "    print(\"Negative\")\n",
        "else:\n",
        "    print(\"Zero\")"
      ]
    },
    {
      "cell_type": "code",
      "source": [
        "# Q2: Create a loop that prints the first 10 even numbers.\n",
        "\n",
        "count = 0\n",
        "num = 0\n",
        "while count < 10:\n",
        "    if num % 2 == 0:\n",
        "        print(num)\n",
        "        count += 1\n",
        "    num += 1"
      ],
      "metadata": {
        "colab": {
          "base_uri": "https://localhost:8080/"
        },
        "id": "UoIfQUdAR6bV",
        "outputId": "2651d181-6442-4bc2-e0a8-672268d6e444"
      },
      "execution_count": 2,
      "outputs": [
        {
          "output_type": "stream",
          "name": "stdout",
          "text": [
            "0\n",
            "2\n",
            "4\n",
            "6\n",
            "8\n",
            "10\n",
            "12\n",
            "14\n",
            "16\n",
            "18\n"
          ]
        }
      ]
    },
    {
      "cell_type": "code",
      "source": [
        "# Q3: Implement a program that finds the largest number in a list.\n",
        "\n",
        "num_list = [10, 5, 20, 8, 15]\n",
        "max_num = num_list[0]\n",
        "for num in num_list:\n",
        "    if num > max_num:\n",
        "        max_num = num\n",
        "print(\"Largest number in the list:\", max_num)"
      ],
      "metadata": {
        "colab": {
          "base_uri": "https://localhost:8080/"
        },
        "id": "zRUYyr8tR6l3",
        "outputId": "43e37045-1a63-41a5-9f9f-615a3ee47e9f"
      },
      "execution_count": 3,
      "outputs": [
        {
          "output_type": "stream",
          "name": "stdout",
          "text": [
            "Largest number in the list: 20\n"
          ]
        }
      ]
    },
    {
      "cell_type": "code",
      "source": [
        "# Q4: Create a program that takes a year as input and checks if it is a leap year or not.\n",
        "\n",
        "year = int(input(\"Enter a year: \"))\n",
        "if (year % 4 == 0 and year % 100 != 0) or (year % 400 == 0):\n",
        "    print(year, \"is a leap year\")\n",
        "else:\n",
        "    print(year, \"is not a leap year\")"
      ],
      "metadata": {
        "colab": {
          "base_uri": "https://localhost:8080/"
        },
        "id": "Fj8qoRaSR6uW",
        "outputId": "91dbeeda-f715-476f-fdaa-a74d4ad3c94e"
      },
      "execution_count": 4,
      "outputs": [
        {
          "output_type": "stream",
          "name": "stdout",
          "text": [
            "Enter a year: 2024\n",
            "2024 is a leap year\n"
          ]
        }
      ]
    },
    {
      "cell_type": "code",
      "source": [
        "# Q5: Given a list of integers, find all the even numbers and store them in a new list.\n",
        "\n",
        "num_list = [1, 2, 3, 4, 5, 6, 7, 8, 9, 10]\n",
        "even_list = []\n",
        "for num in num_list:\n",
        "    if num % 2 == 0:\n",
        "        even_list.append(num)\n",
        "print(\"Even numbers in the list:\", even_list)"
      ],
      "metadata": {
        "colab": {
          "base_uri": "https://localhost:8080/"
        },
        "id": "qREfu7k-R634",
        "outputId": "5f869b25-6208-48ce-d1ad-0e34960eea2d"
      },
      "execution_count": 5,
      "outputs": [
        {
          "output_type": "stream",
          "name": "stdout",
          "text": [
            "Even numbers in the list: [2, 4, 6, 8, 10]\n"
          ]
        }
      ]
    },
    {
      "cell_type": "code",
      "source": [
        "# Q6: Given a list of words, count the number of words with more than five characters.\n",
        "\n",
        "words = [\"apple\", \"banana\", \"orange\", \"grape\", \"kiwi\", \"strawberry\", \"watermelon\"]\n",
        "count = 0\n",
        "for word in words:\n",
        "    if len(word) > 5:\n",
        "        count += 1\n",
        "print(\"Number of words with more than five characters:\", count)"
      ],
      "metadata": {
        "colab": {
          "base_uri": "https://localhost:8080/"
        },
        "id": "SEClGETBR6--",
        "outputId": "b8c97790-dea4-4deb-be22-7b637711eaeb"
      },
      "execution_count": 11,
      "outputs": [
        {
          "output_type": "stream",
          "name": "stdout",
          "text": [
            "Number of words with more than five characters: 4\n"
          ]
        }
      ]
    },
    {
      "cell_type": "code",
      "source": [
        "# Q7: Create a program that generates the Fibonacci sequence up to a given number of terms.\n",
        "\n",
        "num_terms = int(input(\"Enter the number of terms: \"))\n",
        "fib_sequence = [0, 1]\n",
        "for i in range(2, num_terms):\n",
        "    fib_sequence.append(fib_sequence[-1] + fib_sequence[-2])\n",
        "print(\"Fibonacci sequence up to\", num_terms, \"terms:\", fib_sequence)"
      ],
      "metadata": {
        "colab": {
          "base_uri": "https://localhost:8080/"
        },
        "id": "nMtLEeIwR7EC",
        "outputId": "6d942863-2581-4b5b-d853-8efc4031576c"
      },
      "execution_count": 7,
      "outputs": [
        {
          "output_type": "stream",
          "name": "stdout",
          "text": [
            "Enter the number of terms: 1\n",
            "Fibonacci sequence up to 1 terms: [0, 1]\n"
          ]
        }
      ]
    },
    {
      "cell_type": "code",
      "source": [
        "# Q8: Given a list of names, print all names starting with the letter 'A'.\n",
        "\n",
        "names = [\"Alice\", \"Bob\", \"Amy\", \"Adam\", \"Charlie\"]\n",
        "for name in names:\n",
        "    if name.startswith('A'):\n",
        "        print(name)"
      ],
      "metadata": {
        "colab": {
          "base_uri": "https://localhost:8080/"
        },
        "id": "B0f4HEzgR7Ks",
        "outputId": "143b61d5-aee1-4160-913a-551b8d9652c8"
      },
      "execution_count": 8,
      "outputs": [
        {
          "output_type": "stream",
          "name": "stdout",
          "text": [
            "Alice\n",
            "Amy\n",
            "Adam\n"
          ]
        }
      ]
    },
    {
      "cell_type": "code",
      "source": [
        "# Q9: Implement a program that prints the multiplication table of a given number.\n",
        "\n",
        "num = int(input(\"Enter a number: \"))\n",
        "print(\"Multiplication table of\", num)\n",
        "for i in range(1, 11):\n",
        "    print(num, 'x', i, '=', num * i)"
      ],
      "metadata": {
        "colab": {
          "base_uri": "https://localhost:8080/"
        },
        "id": "k_HZ8e7HR7UX",
        "outputId": "39eee2f4-e968-4756-d23f-dc8de541d875"
      },
      "execution_count": 9,
      "outputs": [
        {
          "output_type": "stream",
          "name": "stdout",
          "text": [
            "Enter a number: 25\n",
            "Multiplication table of 25\n",
            "25 x 1 = 25\n",
            "25 x 2 = 50\n",
            "25 x 3 = 75\n",
            "25 x 4 = 100\n",
            "25 x 5 = 125\n",
            "25 x 6 = 150\n",
            "25 x 7 = 175\n",
            "25 x 8 = 200\n",
            "25 x 9 = 225\n",
            "25 x 10 = 250\n"
          ]
        }
      ]
    },
    {
      "cell_type": "code",
      "source": [
        "# Q10: Write a program that calculates the factorial of a given number.\n",
        "\n",
        "num = int(input(\"Enter a number: \"))\n",
        "factorial = 1\n",
        "for i in range(1, num + 1):\n",
        "    factorial *= i\n",
        "print(\"Factorial of\", num, \"is:\", factorial)"
      ],
      "metadata": {
        "colab": {
          "base_uri": "https://localhost:8080/"
        },
        "id": "DK18hm02S_Wd",
        "outputId": "12e038ff-161a-4db5-8231-ce27aa90821f"
      },
      "execution_count": 10,
      "outputs": [
        {
          "output_type": "stream",
          "name": "stdout",
          "text": [
            "Enter a number: 5\n",
            "Factorial of 5 is: 120\n"
          ]
        }
      ]
    },
    {
      "cell_type": "code",
      "source": [
        "# Q11: Calculate the sum of digits of a given number.\n",
        "\n",
        "num = int(input(\"Enter a number: \"))\n",
        "sum_of_digits = 0\n",
        "\n",
        "while num > 0:\n",
        "    digit = num % 10\n",
        "    sum_of_digits += digit\n",
        "    num //= 10\n",
        "\n",
        "print(\"Sum of digits:\", sum_of_digits)"
      ],
      "metadata": {
        "colab": {
          "base_uri": "https://localhost:8080/"
        },
        "id": "xWM7fzm1S_h7",
        "outputId": "4fe3a67e-cb8a-4c18-d841-4bcf713b70f5"
      },
      "execution_count": 12,
      "outputs": [
        {
          "output_type": "stream",
          "name": "stdout",
          "text": [
            "Enter a number: 25\n",
            "Sum of digits: 7\n"
          ]
        }
      ]
    }
  ]
}